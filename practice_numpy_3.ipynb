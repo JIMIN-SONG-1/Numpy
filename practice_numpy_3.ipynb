{
  "cells": [
    {
      "cell_type": "markdown",
      "metadata": {
        "id": "nsFtdgNZFujq"
      },
      "source": [
        "# (실습) 어레이 중심 프로그래밍"
      ]
    },
    {
      "cell_type": "markdown",
      "metadata": {
        "id": "ZscOM1gvFujr"
      },
      "source": [
        "**주의사항**\n",
        "\n",
        "- `None`은 적절한 표현식으로 대체한다.\n",
        "- `Pass`는 적절한 명령문으로 대체한다."
      ]
    },
    {
      "cell_type": "code",
      "execution_count": null,
      "metadata": {
        "id": "J71Fcvihxzi9"
      },
      "outputs": [],
      "source": [
        "import numpy as np\n",
        "import matplotlib.pyplot as plt"
      ]
    },
    {
      "cell_type": "markdown",
      "metadata": {
        "id": "GIG5Ps0QFujr"
      },
      "source": [
        "**문제 1**"
      ]
    },
    {
      "cell_type": "markdown",
      "metadata": {
        "id": "mVqaO1kjFujs"
      },
      "source": [
        "길이가 같은 두 개의 랜덤 벡터 `A`, `B`가 다음과 같이 주어졌다."
      ]
    },
    {
      "cell_type": "code",
      "execution_count": null,
      "metadata": {
        "id": "azWgKC2QFujs",
        "outputId": "233693cd-b839-44aa-c724-2cbe157f022f"
      },
      "outputs": [
        {
          "data": {
            "text/plain": [
              "array([0, 0, 0, 0, 0])"
            ]
          },
          "execution_count": 2,
          "metadata": {},
          "output_type": "execute_result"
        }
      ],
      "source": [
        "A = np.random.randint(0,2,5)\n",
        "A"
      ]
    },
    {
      "cell_type": "code",
      "execution_count": null,
      "metadata": {
        "id": "nszTsMDsFujs",
        "outputId": "a3c3fb61-3eda-4f24-db6c-e380cf371afc"
      },
      "outputs": [
        {
          "data": {
            "text/plain": [
              "array([0, 0, 1, 0, 1])"
            ]
          },
          "execution_count": 3,
          "metadata": {},
          "output_type": "execute_result"
        }
      ],
      "source": [
        "B = np.random.randint(0,2,5)\n",
        "B"
      ]
    },
    {
      "cell_type": "markdown",
      "metadata": {
        "id": "XCRdhwm5Fujs"
      },
      "source": [
        "(1) 두 벡터의 모든 항목이 동일한지 여부를 판단하라.\n",
        "단, `all()` 메서드를 이용한다."
      ]
    },
    {
      "cell_type": "code",
      "execution_count": null,
      "metadata": {
        "id": "x3JG8YFmFujs"
      },
      "outputs": [],
      "source": [
        "Z = None"
      ]
    },
    {
      "cell_type": "markdown",
      "metadata": {
        "id": "XWkDpsIJFujt"
      },
      "source": [
        "아래 코드는 수정하지 마세요!!!"
      ]
    },
    {
      "cell_type": "code",
      "execution_count": null,
      "metadata": {
        "id": "R3OmG-V_Fujt"
      },
      "outputs": [],
      "source": [
        "Y = ((A==B).sum() == len(A))\n",
        "assert Z == Y"
      ]
    },
    {
      "cell_type": "markdown",
      "metadata": {
        "id": "fevLFEQxFujt"
      },
      "source": [
        "(2) 최소 한 개 이상의 항목이 동일한 인덱스에 위치하는지 여부를 판단하라.\n",
        "단, `any()` 메서드를 이용한다."
      ]
    },
    {
      "cell_type": "code",
      "execution_count": null,
      "metadata": {
        "id": "hGQ0ZgzYFujt"
      },
      "outputs": [],
      "source": [
        "Z = None"
      ]
    },
    {
      "cell_type": "markdown",
      "metadata": {
        "id": "SHjbnMF4Fujt"
      },
      "source": [
        "아래 코드는 수정하지 마세요!!!"
      ]
    },
    {
      "cell_type": "code",
      "execution_count": null,
      "metadata": {
        "id": "tYuTF2g6Fujt"
      },
      "outputs": [],
      "source": [
        "Y = ((A==B).sum() > 0)\n",
        "assert Z == Y"
      ]
    },
    {
      "cell_type": "markdown",
      "metadata": {
        "id": "FwrmrPpMFujt"
      },
      "source": [
        "**문제 2**"
      ]
    },
    {
      "cell_type": "markdown",
      "metadata": {
        "id": "rHu8UfyJFujt"
      },
      "source": [
        "`np.random.rand()` 함수는 `[0, 1)` 구간에서 균등 분포를\n",
        "따르는 부동소수점을 무작위로 선택하여 지정된 모양의 어레이를 생성한다."
      ]
    },
    {
      "cell_type": "code",
      "execution_count": null,
      "metadata": {
        "colab": {
          "base_uri": "https://localhost:8080/"
        },
        "id": "3y-9_C7cfMnc",
        "outputId": "4a6ee8f3-f274-48fc-a9f9-1fa558133ff2"
      },
      "outputs": [
        {
          "data": {
            "text/plain": [
              "array([[0.19192539, 0.12728211],\n",
              "       [0.58281035, 0.70862139],\n",
              "       [0.12670719, 0.28643565],\n",
              "       [0.31996388, 0.86262623],\n",
              "       [0.79746522, 0.96836856],\n",
              "       [0.84253928, 0.18091502],\n",
              "       [0.14781629, 0.22615115],\n",
              "       [0.61665194, 0.54989182],\n",
              "       [0.40844947, 0.23547373],\n",
              "       [0.94829807, 0.72810424]])"
            ]
          },
          "execution_count": 8,
          "metadata": {},
          "output_type": "execute_result"
        }
      ],
      "source": [
        "np.random.seed(10)\n",
        "\n",
        "Z = np.random.rand(10, 2)\n",
        "Z"
      ]
    },
    {
      "cell_type": "markdown",
      "metadata": {
        "id": "vaQ_GABaFuju"
      },
      "source": [
        "변수 `Z`가 가리키는 벡터의 항목 중에서 열별 최댓값을 -1로 대체하라.\n",
        "\n",
        "힌트: `max()` 어레이 메서드, 부울 인덱싱"
      ]
    },
    {
      "cell_type": "code",
      "execution_count": null,
      "metadata": {
        "id": "qN1MCBm4Fuju"
      },
      "outputs": [],
      "source": [
        "None = -1"
      ]
    },
    {
      "cell_type": "markdown",
      "metadata": {
        "id": "mNfnfiP9Fuju"
      },
      "source": [
        "아래 코드는 수정하지 마세요!!!"
      ]
    },
    {
      "cell_type": "code",
      "execution_count": null,
      "metadata": {
        "id": "Q6c1MVibFuju"
      },
      "outputs": [],
      "source": [
        "assert (Z.min(axis=0)==-1).all()"
      ]
    },
    {
      "cell_type": "markdown",
      "metadata": {
        "id": "hdmA3fUTFuju"
      },
      "source": [
        "**문제 3**"
      ]
    },
    {
      "cell_type": "markdown",
      "metadata": {
        "id": "1kzKhT-IFuju"
      },
      "source": [
        "`np.random.uniform()` 함수는 지정된 구간에서 지정된 개수의 부동소수점을 균등 분포를 따르면서 무작위로 선택해서\n",
        "1차원 어레이를 생성한다."
      ]
    },
    {
      "cell_type": "code",
      "execution_count": null,
      "metadata": {
        "id": "MhOTPW5OFuju",
        "outputId": "4058d9ac-f128-4769-a278-8f8a5cef1a8b"
      },
      "outputs": [
        {
          "data": {
            "text/plain": [
              "array([0.77132064, 0.02075195, 0.63364823, 0.74880388, 0.49850701,\n",
              "       0.22479665, 0.19806286, 0.76053071, 0.16911084, 0.08833981])"
            ]
          },
          "execution_count": 11,
          "metadata": {},
          "output_type": "execute_result"
        }
      ],
      "source": [
        "np.random.seed(10)\n",
        "\n",
        "Z = np.random.uniform(0, 1, 10)\n",
        "Z"
      ]
    },
    {
      "cell_type": "markdown",
      "metadata": {
        "id": "rRSbEu4sFuju"
      },
      "source": [
        "변수 `Z`가 가리키는 어레이에 포함된 항목 중에서 항목들의 평균값에 가장 가까운 값을\n",
        "`min_mean` 변수가 가리키도록 하라.\n",
        "단, `argimin()` 메서드와 `np.abs()` 함수를 이용한다."
      ]
    },
    {
      "cell_type": "code",
      "execution_count": null,
      "metadata": {
        "id": "huoWpG8UFuju"
      },
      "outputs": [],
      "source": [
        "z = Z.mean()\n",
        "print(z)\n",
        "min-mean = Z[np.abs(Z - z), argin()]\n",
        "print(min_mean)"
      ]
    },
    {
      "cell_type": "markdown",
      "metadata": {
        "id": "gZls6d-KFuju"
      },
      "source": [
        "아래 코드는 수정하지 마세요!!!"
      ]
    },
    {
      "cell_type": "code",
      "execution_count": null,
      "metadata": {
        "id": "YGhID0grFujv"
      },
      "outputs": [],
      "source": [
        "assert round(min_mean, 3) == 0.499"
      ]
    },
    {
      "cell_type": "markdown",
      "metadata": {
        "id": "bGosA2fmFujv"
      },
      "source": [
        "**문제 4**"
      ]
    },
    {
      "cell_type": "markdown",
      "metadata": {
        "id": "b5QmLhUuFujv"
      },
      "source": [
        "2차원 어레이가 다음가 같이 주어졌다."
      ]
    },
    {
      "cell_type": "code",
      "execution_count": null,
      "metadata": {
        "colab": {
          "base_uri": "https://localhost:8080/"
        },
        "id": "9FKW7cQ1Fujv",
        "outputId": "4a6ee8f3-f274-48fc-a9f9-1fa558133ff2"
      },
      "outputs": [
        {
          "data": {
            "text/plain": [
              "array([[0.68535982, 0.95339335],\n",
              "       [0.00394827, 0.51219226],\n",
              "       [0.81262096, 0.61252607],\n",
              "       [0.72175532, 0.29187607],\n",
              "       [0.91777412, 0.71457578],\n",
              "       [0.54254437, 0.14217005],\n",
              "       [0.37334076, 0.67413362],\n",
              "       [0.44183317, 0.43401399],\n",
              "       [0.61776698, 0.51313824],\n",
              "       [0.65039718, 0.60103895]])"
            ]
          },
          "execution_count": 14,
          "metadata": {},
          "output_type": "execute_result"
        }
      ],
      "source": [
        "Z = np.random.rand(10, 2)\n",
        "Z"
      ]
    },
    {
      "cell_type": "markdown",
      "metadata": {
        "id": "aNeM6AjuFujv"
      },
      "source": [
        "변수 `Z`가 가리키는 어레이를 표준화 하라.\n",
        "즉, 항목들의 평균은 0, 표준편차는 1이 되도록 한다.\n",
        "단, `mean()`과 `std()` 메서드를 이용한다."
      ]
    },
    {
      "cell_type": "code",
      "execution_count": null,
      "metadata": {
        "id": "qMnshZ5lU-Iy"
      },
      "outputs": [],
      "source": [
        "Z = None"
      ]
    },
    {
      "cell_type": "markdown",
      "metadata": {
        "id": "hNs_YImxFujv"
      },
      "source": [
        "아래 코드는 수정하지 마세요!!!"
      ]
    },
    {
      "cell_type": "code",
      "execution_count": null,
      "metadata": {
        "id": "z3RVGA6PFujv"
      },
      "outputs": [],
      "source": [
        "assert round(Z.mean(), 1) == 0.0\n",
        "assert round(Z.std(), 1) == 1.0"
      ]
    },
    {
      "cell_type": "markdown",
      "metadata": {
        "id": "ZtdrHLvxFujv"
      },
      "source": [
        "**텍스트 파일 다운로드 후 활용**"
      ]
    },
    {
      "cell_type": "markdown",
      "metadata": {
        "id": "VvGInLqwFujv"
      },
      "source": [
        "`data_path`가 가리키는 인터넷 주소에 아래 내용의 파일이 저장되어 있다.\n",
        "\n",
        "```python\n",
        "1,  2,  3,  4,  5\n",
        "6,  7,  8,  9, 10\n",
        "11, 12, 13, 14, 15\n",
        "```"
      ]
    },
    {
      "cell_type": "code",
      "execution_count": null,
      "metadata": {
        "id": "xdCMJOHZFujv"
      },
      "outputs": [],
      "source": [
        "data_path = \"https://raw.githubusercontent.com/codingalzi/datapy/master/practices/data/exc_data_import.txt\""
      ]
    },
    {
      "cell_type": "markdown",
      "metadata": {
        "id": "y_I7nsCGFujy"
      },
      "source": [
        "**문제 5**"
      ]
    },
    {
      "cell_type": "markdown",
      "metadata": {
        "id": "C8IvRV1ZFujy"
      },
      "source": [
        "위 파일을 불러와 아래 모양의 2차원 어레이를 생성하라.\n",
        "\n",
        "힌트: `np.genfromtxt()` 함수와 `delimiter` 키워드 매개변수"
      ]
    },
    {
      "cell_type": "markdown",
      "metadata": {
        "id": "-VP1ty2nFujz"
      },
      "source": [
        "```python\n",
        "array([[ 1,  2,  3,  4,  5],\n",
        "       [ 6,  7,  8,  9, 10],\n",
        "       [11, 12, 13, 14, 15]])\n",
        "```"
      ]
    },
    {
      "cell_type": "code",
      "execution_count": null,
      "metadata": {
        "id": "K7ArVCW9Fujz"
      },
      "outputs": [],
      "source": [
        "Z = np.genfromtxt(data_path, delimiter\",\", dtype=np,int32)"
      ]
    },
    {
      "cell_type": "markdown",
      "metadata": {
        "id": "oskldf38Fujz"
      },
      "source": [
        "아래 코드는 수정하지 마세요!!!"
      ]
    },
    {
      "cell_type": "code",
      "execution_count": null,
      "metadata": {
        "id": "SVbMak0xFujz"
      },
      "outputs": [],
      "source": [
        "assert (Z == np.array([[ 1,  2,  3,  4,  5],\n",
        "                        [ 6,  7,  8,  9, 10],\n",
        "                        [11, 12, 13, 14, 15]])).all()"
      ]
    },
    {
      "cell_type": "markdown",
      "metadata": {
        "id": "U0hKj0ISFujz"
      },
      "source": [
        "**문제 6**"
      ]
    },
    {
      "cell_type": "markdown",
      "metadata": {
        "id": "hEe91isZFujz"
      },
      "source": [
        "`Z`에 `np.divmod()` 함수를 적용하라. 단 7로 나눈 몫과 나머지로 이루어진 어레이를 생성해야 한다."
      ]
    },
    {
      "cell_type": "code",
      "execution_count": null,
      "metadata": {
        "id": "CJJYJvTUFujz"
      },
      "outputs": [],
      "source": [
        "Zmod = np.divmod(2, 7)"
      ]
    },
    {
      "cell_type": "markdown",
      "metadata": {
        "id": "VjheZB5DFujz"
      },
      "source": [
        "아래 코드는 수정하지 마세요!!!"
      ]
    },
    {
      "cell_type": "code",
      "execution_count": null,
      "metadata": {
        "id": "9p_q-IdmFujz"
      },
      "outputs": [],
      "source": [
        "assert (Zmod[0] == np.array([[0, 0, 0, 0, 0],\n",
        "                              [0, 1, 1, 1, 1],\n",
        "                              [1, 1, 1, 2, 2]])).all()\n",
        "\n",
        "assert (Zmod[1] == np.array([[1, 2, 3, 4, 5],\n",
        "                              [6, 0, 1, 2, 3],\n",
        "                              [4, 5, 6, 0, 1]])).all()"
      ]
    },
    {
      "cell_type": "markdown",
      "metadata": {
        "id": "cUJMYHMLFujz"
      },
      "source": [
        "**문제 7**"
      ]
    },
    {
      "cell_type": "markdown",
      "metadata": {
        "id": "d2JfnoqYFujz"
      },
      "source": [
        "변수 `Z`가 가리키는 어레이에 7로 나누어 떨어지는 항목의 수를 `n_mod7_0` 변수가 가리키도록 하라.\n",
        "단, `Zmod`와 `sum()` 메서드를 이용한다."
      ]
    },
    {
      "cell_type": "code",
      "execution_count": null,
      "metadata": {
        "id": "7zt94fZjFuj0"
      },
      "outputs": [],
      "source": [
        "n_mod7_0 = (Zmod[1]==0.sum())"
      ]
    },
    {
      "cell_type": "markdown",
      "metadata": {
        "id": "GGUg_5RHFuj0"
      },
      "source": [
        "아래 코드는 수정하지 마세요!!!"
      ]
    },
    {
      "cell_type": "code",
      "execution_count": null,
      "metadata": {
        "id": "C78l0RL4Fuj0"
      },
      "outputs": [],
      "source": [
        "assert n_mod7_0 == 2"
      ]
    },
    {
      "cell_type": "markdown",
      "metadata": {
        "id": "embR0AimFuj0"
      },
      "source": [
        "**문제 8**"
      ]
    },
    {
      "cell_type": "markdown",
      "metadata": {
        "id": "RB-AW0ZAFuj0"
      },
      "source": [
        "변수 `Z`가 가리키는 어레이에 7로 나눴을 때 나머지가 3인 항목만으로 이루어진 1차원 어레이를 `n_mod7_3` 변수가 가리키도록 하라.\n",
        "단, `Zmod`와 부울 인덱싱을 활용한다."
      ]
    },
    {
      "cell_type": "code",
      "execution_count": null,
      "metadata": {
        "id": "PjzkRawVFuj0"
      },
      "outputs": [],
      "source": [
        "n_mod7_3 = None"
      ]
    },
    {
      "cell_type": "markdown",
      "metadata": {
        "id": "Wl9f1MXDFuj0"
      },
      "source": [
        "아래 코드는 수정하지 마세요!!!"
      ]
    },
    {
      "cell_type": "code",
      "execution_count": null,
      "metadata": {
        "id": "gHnY6vluFuj0"
      },
      "outputs": [],
      "source": [
        "assert (n_mod7_3 == np.array([ 3, 10])).all()"
      ]
    },
    {
      "cell_type": "markdown",
      "metadata": {
        "id": "E6I2iniKFuj0"
      },
      "source": [
        "**문제 9**"
      ]
    },
    {
      "cell_type": "markdown",
      "metadata": {
        "id": "avvn211pFuj0"
      },
      "source": [
        "다음 어레이를 이용한다."
      ]
    },
    {
      "cell_type": "code",
      "execution_count": null,
      "metadata": {
        "id": "Z6foo1yMFuj0",
        "outputId": "c3ef44f8-fa30-40ef-aa10-65a64391acd5"
      },
      "outputs": [
        {
          "data": {
            "text/plain": [
              "array([[11, 34,  2],\n",
              "       [47,  3,  7],\n",
              "       [35, 40, 16],\n",
              "       [16,  2, 15]])"
            ]
          },
          "execution_count": 22,
          "metadata": {},
          "output_type": "execute_result"
        }
      ],
      "source": [
        "np.random.seed(1235)\n",
        "\n",
        "Z = np.random.randint(0,50,(4, 3))\n",
        "Z"
      ]
    },
    {
      "cell_type": "markdown",
      "metadata": {
        "id": "YsNXKFewFuj1"
      },
      "source": [
        "1번 열에 위치한 값들의 순서대로 행을 재배치한 어레이를 변수 `X`가 가리키도록 하라.\n",
        "단, `argsort()` 메서드와 인덱싱, 슬라이싱, 팬시 인덱싱을 사용한다."
      ]
    },
    {
      "cell_type": "code",
      "execution_count": null,
      "metadata": {
        "id": "qIoQtVRaFuj1"
      },
      "outputs": [],
      "source": [
        "X = None"
      ]
    },
    {
      "cell_type": "markdown",
      "metadata": {
        "id": "07m9re4zFuj1"
      },
      "source": [
        "아래 코드는 수정하지 마세요!!!"
      ]
    },
    {
      "cell_type": "code",
      "execution_count": null,
      "metadata": {
        "id": "YCm8RFKLFuj1"
      },
      "outputs": [],
      "source": [
        "assert (X == np.array([[16,  2, 15],\n",
        "                        [47,  3,  7],\n",
        "                        [11, 34,  2],\n",
        "                        [35, 40, 16]])).all()"
      ]
    },
    {
      "cell_type": "markdown",
      "metadata": {
        "id": "wJjBDPwlFuj1"
      },
      "source": [
        "**문제 10**"
      ]
    },
    {
      "cell_type": "markdown",
      "metadata": {
        "id": "UDMuvrrdFuj1"
      },
      "source": [
        "아래와 같은 그래프를 그리는 코드를 완성하라.\n",
        "단, `np.sin()`, `np.cos()` 두 유니버설 함수를 이용한다."
      ]
    },
    {
      "cell_type": "markdown",
      "metadata": {
        "id": "kMA6dCsPFuj1"
      },
      "source": [
        "<div align=\"center\"><img src=\"https://raw.githubusercontent.com/codingalzi/datapy/master/jupyter-book/images/sine-cosine.png?raw=true\" style=\"width:400px;\"></div>"
      ]
    },
    {
      "cell_type": "code",
      "execution_count": null,
      "metadata": {
        "id": "NHojdZhMFuj1"
      },
      "outputs": [],
      "source": [
        "x = np.arange(0, 3 * np.pi, 0.1)\n",
        "y_sin = None\n",
        "y_cos = None\n",
        "\n",
        "plt.plot(x, y_sin)\n",
        "plt.plot(x, y_cos)\n",
        "plt.xlabel('x axis')\n",
        "plt.ylabel('y axis')\n",
        "plt.legend(['sine', 'cosine'])\n",
        "\n",
        "plt.show()"
      ]
    }
  ],
  "metadata": {
    "colab": {
      "provenance": []
    },
    "kernelspec": {
      "display_name": "Python 3 (ipykernel)",
      "language": "python",
      "name": "python3"
    },
    "language_info": {
      "codemirror_mode": {
        "name": "ipython",
        "version": 3
      },
      "file_extension": ".py",
      "mimetype": "text/x-python",
      "name": "python",
      "nbconvert_exporter": "python",
      "pygments_lexer": "ipython3",
      "version": "3.11.4"
    },
    "vscode": {
      "interpreter": {
        "hash": "ad0f3c8a064f687cbf898a0868fd45ba1c7e928ac8a0404f7c241d812ddc1e76"
      }
    }
  },
  "nbformat": 4,
  "nbformat_minor": 0
}
